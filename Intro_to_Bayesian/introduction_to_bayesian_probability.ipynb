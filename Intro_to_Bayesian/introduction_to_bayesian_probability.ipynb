{
 "cells": [
  {
   "cell_type": "markdown",
   "metadata": {},
   "source": [
    "# Recommended reading\n",
    "\n",
    "\n",
    "* Think Bayes: Bayesian Statistics in Python by Allen B. Downey\n",
    "* Information Theory, Inference and Learning Algorithms by David J. C. MacKay\n",
    "\n"
   ]
  },
  {
   "cell_type": "markdown",
   "metadata": {},
   "source": [
    "# Definitions\n",
    "\n",
    "**Joint probability** $p(a,b)$\n",
    "\n",
    "a, b are independent random variables if and only if $p(a,b) = p(a)p(b)$\n",
    "\n",
    "**Marginal probability** $p(a) = \\sum_b {p(a,b)}$\n",
    "\n",
    "If b is a continuous variable, sum is replaced by an integral. \n",
    "Sum or integral operation is also called **marginalization**\n",
    "\n",
    "**Conditional probability** $p(a~|~b) = \\frac{p(a,b)}{p(b)}$\n",
    "\n",
    "From this follows that $p(a,b) = p(a~|~b)~p(b) = p(b~|~a)~p(a)$ and Bayes' theorem in classic form:\n",
    "\n",
    "$$p(a~|~b) = \\frac{p(b~|~a)~p(a)}{p(b)}$$\n",
    "\n",
    "**Probability** is a degree of *belief*  in a proposition"
   ]
  },
  {
   "cell_type": "markdown",
   "metadata": {},
   "source": [
    "# Example 1\n",
    "\n",
    "Suppose there are two bowls of cookies. Bowl 1 contains 30 vanilla cookies and 10 chocolate cookies. Bowl 2 contains 20 of each. Now suppose you choose one of the bowls at random and, without looking, select a cookie at random. The cookie is vanilla. What is the probability that it came from Bowl 1?\n",
    "\n",
    "$$ p(bowl~1~|~vanilla) = \\frac{p(vanilla~|~bowl~1)~p(bowl~1)}{p(vanilla)}  = \n",
    "\\frac{\\frac{3}{4} \\frac{1}{2}}{\\frac{5}{8}} = \\frac{3}{5} $$\n",
    "\n"
   ]
  },
  {
   "cell_type": "markdown",
   "metadata": {},
   "source": [
    "# Bayesian data modeling\n",
    "\n",
    "Model $\\mathscr{H}$ is set of assumptions on which probability is based.\n",
    "\n",
    "$$ p(model~parameters~|~data, model~type) = \n",
    "\\frac {p(data~|~model~type, model~parameters)~p(model~type, model~parameters)} \n",
    "{p(data~|~model~type)} $$\n",
    "\n",
    "$ p(model~type, model~parameters) $ is called **prior probability** or **prior beliefs**\n",
    "\n",
    "$ p(model~parameters~|~data, model~type)$ is called **posterior probability** or **posterior beliefs**\n",
    "\n",
    "$ p(data~|~model~type, model~parameters) $ is called **likelihood** of the parameters given the data\n",
    "\n",
    "$ p(data~|~model~type) = \\sum_{model~parameters} {p(data~|~model~type, model~parameters)~p(model~type, model~parameters)} $ is called **evidence** and is a normalizing constant\n"
   ]
  },
  {
   "cell_type": "markdown",
   "metadata": {},
   "source": [
    "## Example 2\n",
    "You toss a coin, it is heads. What is the probability that it will be heads in the second toss?\n",
    "\n",
    "To model a coin we will use Bernoulli distribution https://en.wikipedia.org/wiki/Bernoulli_distribution.\n",
    "It has one parameter q, which is the probability of heads. Then the likelihood function based on one trial is:\n",
    "\n",
    "$$p(d~|~q) = q^d~(1-1)^{1-d}$$\n",
    "\n",
    "Where d is 1 if it is head and 0 if tails, and q is the unknown parameter of Bernoulli distribution.\n",
    "\n",
    "Uniform prior: when we do not have any prior beliefs about the parameter q, so any value of $q \\in [0,1]$ is equally likely\n",
    "\n",
    "$$p(q) = 1 $$\n",
    "\n",
    "Posterior distribution in this case is:\n",
    "\n",
    "$$p(q~|~d) \\propto p(d~|~q) = q^d~(1-1)^{1-d}$$\n",
    "\n",
    "In our case d = 1, and we also add normalization constant:\n",
    "\n",
    "$$ p(q~|~d=1) = 2q$$\n",
    "\n",
    "We will plot it:"
   ]
  },
  {
   "cell_type": "code",
   "execution_count": 1,
   "metadata": {},
   "outputs": [
    {
     "data": {
      "image/png": "[encoded data removed]",
      "text/plain": [
       "<matplotlib.figure.Figure at 0x16a5e2c3358>"
      ]
     },
     "metadata": {
      "needs_background": "light"
     },
     "output_type": "display_data"
    }
   ],
   "source": [
    "%matplotlib inline\n",
    "import numpy as np\n",
    "import matplotlib.pyplot as plt\n",
    "#plt.rcParams[\"figure.figsize\"] = (15,10)\n",
    "fig, ax = plt.subplots(1, 1)\n",
    "q = np.linspace(0, 1, 1000)\n",
    "ax.xaxis.set_ticks(np.arange(0, 1.0, 0.1))\n",
    "ax.plot(q, 2*q);\n"
   ]
  },
  {
   "cell_type": "markdown",
   "metadata": {},
   "source": [
    "Your next coin:\n",
    "\n",
    "$$ p(d2=1~|~d1=1) = \\int_{q=0}^{1}p(d2=1, q~|~d1=1)dq = \\int_{q=0}^{1}p(d2=1~|~q)~p(q~|~d1=1)dq  = \\int_{q=0}^{1}q\\cdot2q~dq = \\frac{2}{3} $$ "
   ]
  },
  {
   "cell_type": "markdown",
   "metadata": {},
   "source": [
    "The uniform prior we chose is an example of **Uninformative prior**. Another type of prior is **Informative prior**, reflecting our specific prior believes and perhaps prior experience. See https://en.wikipedia.org/wiki/Prior_probability for more discussion. \n",
    "\n",
    "When choosing a prior it is always convenient to choose a **Conjugate prior** https://en.wikipedia.org/wiki/Conjugate_prior. In this case the posterior distribution is of the same type as a prior distribution. \n",
    "\n",
    "In our case for Bernoulli distribution the conjugate prior is Beta Distribution https://en.wikipedia.org/wiki/Beta_distribution, which has two parameters: $\\alpha$ and $\\beta$:\n",
    "\n",
    "$$ p(q) = \\frac{q^{\\alpha-1} (1-q)^{\\beta-1}}{B(\\alpha, \\beta)} $$\n",
    "\n",
    "The 'fair' coin may be described by this prior distribution:"
   ]
  },
  {
   "cell_type": "code",
   "execution_count": 3,
   "metadata": {},
   "outputs": [
    {
     "data": {
      "image/png": "[encoded data removed]",
      "text/plain": [
       "<matplotlib.figure.Figure at 0x16a5e2ad390>"
      ]
     },
     "metadata": {
      "needs_background": "light"
     },
     "output_type": "display_data"
    }
   ],
   "source": [
    "from scipy.stats import beta\n",
    "fig, ax = plt.subplots(1, 1)\n",
    "q = np.linspace(0, 1, 1000)\n",
    "ax.xaxis.set_ticks(np.arange(0, 1.0, 0.1))\n",
    "ax.plot(q, beta.pdf(q, 100, 100));"
   ]
  },
  {
   "cell_type": "markdown",
   "metadata": {},
   "source": [
    "In this case the solution to the question above will be much closer to 0.5, although still higher than 0.5\n",
    "\n",
    "To answer the question \"Is the coin fair?\" we should compare the value of the evidence (the denominator in the Bayes' theorem) of the two models $\\mathscr{H}_0$ and $\\mathscr{H}_1$ (No p-testing is required!). See https://en.wikipedia.org/wiki/Bayes_factor for more information. Bayesian methods often selects simpler models with fewer parameters. Occam's razor."
   ]
  },
  {
   "cell_type": "markdown",
   "metadata": {},
   "source": [
    "# Machine Learning\n",
    "\n",
    "Common loss functions can be derived from the posterior distributions by taking negative log\n",
    "\n",
    "For linear regression:\n",
    "\n",
    "$$y = b + wx + (white~noise) $$\n",
    "\n",
    "The likelihood function:\n",
    "\n",
    "$$ p(data|parameters) \\propto \\prod_i exp\\big(-\\frac{(y^{(i)}-b-wx^{(i)})^2}{2\\sigma^2}\\big)$$\n",
    "\n",
    "The prior distribution for parameter w:\n",
    "\n",
    "$$ p(w) \\propto exp\\big(-\\frac{\\lambda w^2}{2\\sigma^2}\\big)$$\n",
    "\n",
    "Loss function is a negative log:\n",
    "\n",
    "$$ \\mathscr{L} = -log(posterior) \\propto \\sum_i(y^{(i)}-b-wx^{(i)})^2 + \\lambda w^2$$\n",
    "\n",
    "This is a loss function of linear regression with L2 regularization"
   ]
  },
  {
   "cell_type": "markdown",
   "metadata": {},
   "source": [
    "In a similar way, by taking negative log of the Bernoulli distribution we get the cost function for the classification problem:\n",
    "\n",
    "$$ \\mathscr{L}  \\propto \\sum_i(-y^{(i)}log q-(1-y^{(i)})~log (1-q)) $$\n",
    "\n",
    "Minimizing loss function is the same as maximizing posterior distribution (or likelihood in case when prior is uninformative). "
   ]
  }
 ],
 "metadata": {
  "kernelspec": {
   "display_name": "Python 3",
   "language": "python",
   "name": "python3"
  },
  "language_info": {
   "codemirror_mode": {
    "name": "ipython",
    "version": 3
   },
   "file_extension": ".py",
   "mimetype": "text/x-python",
   "name": "python",
   "nbconvert_exporter": "python",
   "pygments_lexer": "ipython3",
   "version": "3.6.7"
  }
 },
 "nbformat": 4,
 "nbformat_minor": 2
}
