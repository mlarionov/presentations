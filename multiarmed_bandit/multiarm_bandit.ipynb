{
  "nbformat": 4,
  "nbformat_minor": 0,
  "metadata": {
    "kernelspec": {
      "display_name": "Python 3",
      "language": "python",
      "name": "python3"
    },
    "language_info": {
      "codemirror_mode": {
        "name": "ipython",
        "version": 3
      },
      "file_extension": ".py",
      "mimetype": "text/x-python",
      "name": "python",
      "nbconvert_exporter": "python",
      "pygments_lexer": "ipython3",
      "version": "3.7.3"
    },
    "colab": {
      "name": "multiarm_bandit.ipynb",
      "provenance": [],
      "collapsed_sections": [],
      "toc_visible": true,
      "include_colab_link": true
    }
  },
  "cells": [
    {
      "cell_type": "markdown",
      "metadata": {
        "id": "view-in-github",
        "colab_type": "text"
      },
      "source": [
        "<a href=\"https://colab.research.google.com/github/mlarionov/presentations/blob/master/multiarmed_bandit/multiarm_bandit.ipynb\" target=\"_parent\"><img src=\"https://colab.research.google.com/assets/colab-badge.svg\" alt=\"Open In Colab\"/></a>"
      ]
    },
    {
      "cell_type": "markdown",
      "metadata": {
        "id": "xFAKLy9PGfp-",
        "colab_type": "text"
      },
      "source": [
        "# Multi-Arm Bandit Algorithm\n",
        "\n",
        "## References\n",
        "1. *Practical Statistics for Data Scientists: 50 Essential Concepts* by Peter Bruce, Andrew Bruce\n",
        "1. https://en.wikipedia.org/wiki/Multi-armed_bandit"
      ]
    },
    {
      "cell_type": "markdown",
      "metadata": {
        "id": "7LXjmPCVGfp_",
        "colab_type": "text"
      },
      "source": [
        "## Problem statement\n",
        "**Multi-arm bandit**\n",
        "An imaginary slot machine with multiple arms for the customer to choose from, each with different payoffs, here taken to be an analogy for a multitreatment experiment.\n",
        "\n",
        "Algorithm is popular A/B testing.\n",
        "\n",
        "Each arm has an unknown probability of win or, in general, expected payoff.\n",
        "You have only limited number of tries.\n",
        "Your goal is to maximize the payoff."
      ]
    },
    {
      "cell_type": "markdown",
      "metadata": {
        "id": "6RroEER4GfqA",
        "colab_type": "text"
      },
      "source": [
        "## Exploration vs. Exploitation\n",
        "\n",
        "Exploration: you spend the first several rounds randomly selecting \"arms\", then pick the best one and use only that one. But you potentially wasted these rounds by not choosing the best earlier.\n",
        "\n",
        "Exploitation: you try to figure out quickly which is the best arm and use only it. But you may have picked the wrong one. In that case you should have spent more time exploring."
      ]
    },
    {
      "cell_type": "markdown",
      "metadata": {
        "id": "Mcdo7axXGfqB",
        "colab_type": "text"
      },
      "source": [
        "## Bandit algorithms\n",
        "\n",
        "Hybrid approach. Keep exploring, but give preference the \"arm\" with the best results at that moment.\n",
        "\n",
        "### Epsilon-greedy algorithm\n",
        "\n",
        "1. Generate a random number between 0 and 1. \n",
        "1. If the number lies between 0 and epsilon (where epsilon is a number between 0 and 1, typically fairly small), pick the \"arm\" at random\n",
        "3. If the number is ≥ epsilon, show whichever offer has had the highest reward to date.\n",
        "\n",
        "\n"
      ]
    },
    {
      "cell_type": "markdown",
      "metadata": {
        "id": "MJFpWLASGfqC",
        "colab_type": "text"
      },
      "source": [
        "### Thompson Sampling\n",
        "\n",
        "After each step we reevaluate expected reward for each \"arm\", then pick the \"arm\" with the best expected reward. For example, suppose you can win `$`1, `$`5 or `$`10. Then if the respective probabilities are $p_1$, $p_5$ and $p_10$, the expected redward is:\n",
        "\n",
        "$$ E[reward] = p_1 + 5 p_5 + 10 p_10 $$\n",
        "\n",
        "Now, rather than use the point estimates of the probabilities $p_i$, we take a sample from the posterior distribution. \n",
        "\n",
        "Just to remind you the Bayes rule:\n",
        "\n",
        "$$ p(A|B) = \\frac{p(B|A) p(A)}{p(B)} $$\n",
        "\n",
        "The probabilities of the rewards follow the Multinomial distribution (or Binomial distribution in case we can have only a reward of fixed value). The probability that we receive reward #1 $n_1$ times, reward #2 $n_2$ times, etc. is:\n",
        "\n",
        "$$ p(n_1 ... n_k) = \\frac{n!}{n_1! ... n_k!} q_1^{n_1} ... q_k^{n_k}$$\n",
        "\n",
        "Here  $\\sum_{i=1}^k{ q_i }= 1$.\n",
        "\n",
        "The prior distribution of the parameters $q$ is Dirichlet distribution:\n",
        "\n",
        "$$ p(q) = \\frac{1}{B(\\alpha)}  \\prod_{i=1}^k {q_i^{\\alpha_i-1}} $$\n",
        "\n",
        "Since we don't know anything about the multi-armed bandit until we started interacting with it, it makes sense to set all $\\alpha$ to the same value, for example, to 1.\n",
        "\n",
        "Since the Dirichlet distribution is a conjugate prior of the Multinomial distribution, the posterior distribution is also Dirichlet distribution with parameters $\\alpha_i = n_i$\n",
        "\n",
        "\n",
        "\n",
        "\n"
      ]
    },
    {
      "cell_type": "markdown",
      "metadata": {
        "id": "clBYeHg7GfqD",
        "colab_type": "text"
      },
      "source": [
        "So the algorithm is as follows:\n",
        "1. For each arm recalculate the parameters of the posterior distribution\n",
        "2. For each arm draw a sample from the posterior distribution\n",
        "3. For each arm calculate the expected reward\n",
        "3. Pick the arm that has the highest expected reward"
      ]
    },
    {
      "cell_type": "markdown",
      "metadata": {
        "id": "Kbw5knIWzZD9",
        "colab_type": "text"
      },
      "source": [
        "As the parameters of the posterior distribution increase, the distribution becomes more and more narrow, and the exploration elements naturally dicreases in favor of the exploitation."
      ]
    },
    {
      "cell_type": "markdown",
      "metadata": {
        "id": "e-5yMH8oGfqE",
        "colab_type": "text"
      },
      "source": [
        "In our examples we will use a fixed reward, so instead of Multinomial distribution we will be using Binomial distribution, and instead of Dirichlet distribution we will use beta distribution. "
      ]
    },
    {
      "cell_type": "markdown",
      "metadata": {
        "id": "na47v7-HCTQL",
        "colab_type": "text"
      },
      "source": [
        "## Naive approach"
      ]
    },
    {
      "cell_type": "code",
      "metadata": {
        "id": "Jj0oTOJQGfqF",
        "colab_type": "code",
        "colab": {}
      },
      "source": [
        "import random\n",
        "def draw(p):\n",
        "    return 1 if random.random() <= p else 0"
      ],
      "execution_count": 0,
      "outputs": []
    },
    {
      "cell_type": "code",
      "metadata": {
        "id": "SBCxUhKSGfqI",
        "colab_type": "code",
        "colab": {}
      },
      "source": [
        "random.seed(6)\n",
        "p_a = 0.5\n",
        "p_b = 0.51"
      ],
      "execution_count": 0,
      "outputs": []
    },
    {
      "cell_type": "markdown",
      "metadata": {
        "id": "ND2pR5cl0M7d",
        "colab_type": "text"
      },
      "source": [
        "First we illustrate that the naive approach \"exploration first, exploitation second\" can be not optimal, especially when the data generating processes are close."
      ]
    },
    {
      "cell_type": "code",
      "metadata": {
        "id": "dmsYUKLrGfqL",
        "colab_type": "code",
        "outputId": "8f65bfde-f0ce-442a-ab64-2648fd9bf6b6",
        "colab": {
          "base_uri": "https://localhost:8080/",
          "height": 185
        }
      },
      "source": [
        "for i in range(10):\n",
        "    print('A:',draw(p_a), 'B:', draw(p_b))    "
      ],
      "execution_count": 4,
      "outputs": [
        {
          "output_type": "stream",
          "text": [
            "A: 0 B: 0\n",
            "A: 1 B: 1\n",
            "A: 1 B: 0\n",
            "A: 1 B: 0\n",
            "A: 1 B: 0\n",
            "A: 1 B: 0\n",
            "A: 0 B: 1\n",
            "A: 0 B: 0\n",
            "A: 1 B: 0\n",
            "A: 0 B: 1\n"
          ],
          "name": "stdout"
        }
      ]
    },
    {
      "cell_type": "markdown",
      "metadata": {
        "id": "RzAndDb2GfqO",
        "colab_type": "text"
      },
      "source": [
        "As you see, even though the probability of the second arm is higher, for the first 10 trials we got better reward for a weaker arm.\n",
        "\n",
        "\n",
        "Next we will try epsilon-greedy strategy, and will try to see what is the best value of the epsilon."
      ]
    },
    {
      "cell_type": "markdown",
      "metadata": {
        "id": "WY9Aw2UFCkxq",
        "colab_type": "text"
      },
      "source": [
        "## Epsilon-greedy algorithm"
      ]
    },
    {
      "cell_type": "code",
      "metadata": {
        "id": "AY-fkfFkGfqP",
        "colab_type": "code",
        "colab": {}
      },
      "source": [
        "class Arm(object):\n",
        "  successes = 0\n",
        "  failures = 0\n",
        "  \n",
        "  def __init__(self, p):\n",
        "    self.p = p\n",
        "  \n",
        "  def prob(self):\n",
        "    if self.successes + self.failures == 0:\n",
        "      return 0.5\n",
        "    else:\n",
        "      return self.successes / (self.successes + self.failures)\n",
        "    \n",
        "  def add_success(self):\n",
        "    self.successes += 1\n",
        "    \n",
        "  def add_failure(self):\n",
        "    self.failures += 1\n",
        "    \n",
        "  def attempts(self):\n",
        "    return self.successes + self.failures\n",
        "   \n",
        "  \n",
        "  \n",
        "def epsilon_greedy(p_a, p_b, epsilon, max_attempts):\n",
        "    a = Arm(p_a)\n",
        "    b = Arm(p_b)\n",
        "    \n",
        "    for _ in range(max_attempts):\n",
        "      if draw(epsilon) or a.prob() == b.prob():\n",
        "        selected = random.choices((a, b))[0]\n",
        "      else:\n",
        "        selected = a if a.prob() > b.prob() else b\n",
        "    \n",
        "      if draw(selected.p):\n",
        "        selected.add_success()\n",
        "      else:\n",
        "        selected.add_failure()\n",
        "    \n",
        "    return a.successes + b.successes, a.attempts() ,b.attempts()"
      ],
      "execution_count": 0,
      "outputs": []
    },
    {
      "cell_type": "code",
      "metadata": {
        "id": "PXWLSO2KGfqR",
        "colab_type": "code",
        "colab": {
          "base_uri": "https://localhost:8080/",
          "height": 34
        },
        "outputId": "b5bbe9ed-6852-4946-e635-4cbd131e6d9f"
      },
      "source": [
        "p_a = 0.5\n",
        "p_b = 0.6\n",
        "random.seed(5)\n",
        "print(epsilon_greedy(p_a, p_b, 0, 1000))"
      ],
      "execution_count": 6,
      "outputs": [
        {
          "output_type": "stream",
          "text": [
            "(519, 999, 1)\n"
          ],
          "name": "stdout"
        }
      ]
    },
    {
      "cell_type": "markdown",
      "metadata": {
        "id": "B-KpZqAgNB7S",
        "colab_type": "text"
      },
      "source": [
        "Not great. But look, since the epsilon is zero, it sticks to its first choice, which in our case is the worse arm. Let's try to increase epsilon to see if we can get better results"
      ]
    },
    {
      "cell_type": "code",
      "metadata": {
        "id": "Y_VmQtg1LxJ0",
        "colab_type": "code",
        "colab": {
          "base_uri": "https://localhost:8080/",
          "height": 34
        },
        "outputId": "653bc645-0b30-4f41-dd68-ea695d75270f"
      },
      "source": [
        "random.seed(5)\n",
        "print(epsilon_greedy(p_a, p_b, 0.3, 1000))"
      ],
      "execution_count": 7,
      "outputs": [
        {
          "output_type": "stream",
          "text": [
            "(583, 277, 723)\n"
          ],
          "name": "stdout"
        }
      ]
    },
    {
      "cell_type": "markdown",
      "metadata": {
        "id": "rnDrrn_oN2sJ",
        "colab_type": "text"
      },
      "source": [
        "This is better! Not only we've got more money, but we also have the algorithm prefer the second arm. This means that the algorithm has learned which arm is better. Let's see the results we get for different values of epsilon:"
      ]
    },
    {
      "cell_type": "code",
      "metadata": {
        "id": "gfs5yDyDM6ey",
        "colab_type": "code",
        "colab": {}
      },
      "source": [
        "import numpy as np\n",
        "import pandas as pd\n",
        "from statistics import mean\n",
        "eps = []\n",
        "results = []\n",
        "for epsilon in np.linspace(start=0.0, stop=1.0, num=40):\n",
        "  attempts = []\n",
        "  for seed in range(100):\n",
        "    random.seed(seed)\n",
        "    attempts.append(epsilon_greedy(p_a, p_b, epsilon, 1000)[0])\n",
        "  eps.append(epsilon)\n",
        "  results.append(mean(attempts))"
      ],
      "execution_count": 0,
      "outputs": []
    },
    {
      "cell_type": "code",
      "metadata": {
        "id": "LJLOkGprQSji",
        "colab_type": "code",
        "colab": {
          "base_uri": "https://localhost:8080/",
          "height": 269
        },
        "outputId": "ff9ec9e7-0881-4f94-a5ba-bff01666cd8d"
      },
      "source": [
        "%matplotlib inline\n",
        "from matplotlib import pyplot as plt\n",
        "plt.scatter(x=eps, y=results);"
      ],
      "execution_count": 9,
      "outputs": [
        {
          "output_type": "display_data",
          "data": {
            "image/png": "[encoded data removed]",
            "text/plain": [
              "<Figure size 432x288 with 1 Axes>"
            ]
          },
          "metadata": {
            "tags": []
          }
        }
      ]
    },
    {
      "cell_type": "markdown",
      "metadata": {
        "id": "yV7kT09ER617",
        "colab_type": "text"
      },
      "source": [
        "This seems like the performance generally worsense as epsilon increases. Let's try to see the best value of $\\epsilon$"
      ]
    },
    {
      "cell_type": "code",
      "metadata": {
        "id": "04BTrrvrSRvh",
        "colab_type": "code",
        "colab": {
          "base_uri": "https://localhost:8080/",
          "height": 34
        },
        "outputId": "690ac662-309a-4b8b-a596-eb50d044c2b5"
      },
      "source": [
        "best_epsilon = eps[np.argmax(results)]\n",
        "best_epsilon"
      ],
      "execution_count": 10,
      "outputs": [
        {
          "output_type": "execute_result",
          "data": {
            "text/plain": [
              "0.15384615384615385"
            ]
          },
          "metadata": {
            "tags": []
          },
          "execution_count": 10
        }
      ]
    },
    {
      "cell_type": "markdown",
      "metadata": {
        "id": "UMAuK0EXT_RG",
        "colab_type": "text"
      },
      "source": [
        "And the best average reward is:"
      ]
    },
    {
      "cell_type": "code",
      "metadata": {
        "id": "bFczmbfvUD9d",
        "colab_type": "code",
        "colab": {
          "base_uri": "https://localhost:8080/",
          "height": 34
        },
        "outputId": "4c43bc80-a9cc-4b74-8cff-178c19cecfa8"
      },
      "source": [
        "best_reward = np.max(results)\n",
        "best_reward"
      ],
      "execution_count": 11,
      "outputs": [
        {
          "output_type": "execute_result",
          "data": {
            "text/plain": [
              "586.28"
            ]
          },
          "metadata": {
            "tags": []
          },
          "execution_count": 11
        }
      ]
    },
    {
      "cell_type": "markdown",
      "metadata": {
        "id": "dVDHg4vbBwY9",
        "colab_type": "text"
      },
      "source": [
        "## Thompson sampling. \n",
        "\n",
        "Since each arm has a fixed reward, its distribution can be modeled as Bernoulli distribution, and the corersponding conjugate prior is Beta distribution. It has two parameters $\\alpha$ and $\\beta$:\n",
        "\n",
        "$$P(q) = \\frac{q^{\\alpha-1}(1-q)^{\\beta-1}}{B(\\alpha,\\beta)} $$\n",
        "\n",
        "The uninformative prior correesponds to both $\\alpha$ and $\\beta$ equals to 1. The parameters of the poeterior distribution are updated using this simple rule:\n",
        "\n",
        "$$\\alpha = \\alpha +\\textrm{number of successes}$$\n",
        "$$\\beta = \\beta + \\textrm{number of failures}$$\n"
      ]
    },
    {
      "cell_type": "code",
      "metadata": {
        "id": "noCtAA16GRfc",
        "colab_type": "code",
        "colab": {}
      },
      "source": [
        "class ThompsonArm(Arm):\n",
        "  init_alpha = 1\n",
        "  init_beta = 1\n",
        "  \n",
        "  def sample(self):\n",
        "    alpha = self.init_alpha + self.successes\n",
        "    beta = self.init_beta + self.failures\n",
        "    return np.random.beta(alpha, beta)\n",
        "  \n",
        "def thompson(p_a, p_b, max_attempts):\n",
        "    a = ThompsonArm(p_a)\n",
        "    b = ThompsonArm(p_b)\n",
        "    \n",
        "    for _ in range(max_attempts):\n",
        "      a_sample = a.sample()\n",
        "      b_sample = b.sample()\n",
        "      if a_sample == b_sample:\n",
        "        selected = random.choices((a, b))[0]\n",
        "      else:\n",
        "        selected = a if a_sample > b_sample else b\n",
        "    \n",
        "      if draw(selected.p):\n",
        "        selected.add_success()\n",
        "      else:\n",
        "        selected.add_failure()\n",
        "    \n",
        "    return a.successes + b.successes, a.attempts() ,b.attempts()"
      ],
      "execution_count": 0,
      "outputs": []
    },
    {
      "cell_type": "code",
      "metadata": {
        "id": "uFlqFaxxHVdl",
        "colab_type": "code",
        "colab": {
          "base_uri": "https://localhost:8080/",
          "height": 34
        },
        "outputId": "132716d4-c8ab-447e-98d1-bda41373b9c4"
      },
      "source": [
        "thompson(p_a, p_b, 1000)"
      ],
      "execution_count": 18,
      "outputs": [
        {
          "output_type": "execute_result",
          "data": {
            "text/plain": [
              "(604, 130, 870)"
            ]
          },
          "metadata": {
            "tags": []
          },
          "execution_count": 18
        }
      ]
    },
    {
      "cell_type": "markdown",
      "metadata": {
        "id": "urXgujHsI1g1",
        "colab_type": "text"
      },
      "source": [
        "We can see that it favors heavily the second arm. Let's run it multiple time and see what would be the average reward"
      ]
    },
    {
      "cell_type": "code",
      "metadata": {
        "id": "Hh1pqyDLIiJ0",
        "colab_type": "code",
        "colab": {
          "base_uri": "https://localhost:8080/",
          "height": 34
        },
        "outputId": "0b2e8500-db73-4c24-c467-1f7a97769388"
      },
      "source": [
        "for seed in range(1000):\n",
        "    random.seed(seed)\n",
        "    np.random.seed(seed)\n",
        "    attempts.append(thompson(p_a, p_b, 1000)[0])\n",
        "print(np.mean(attempts))                   "
      ],
      "execution_count": 29,
      "outputs": [
        {
          "output_type": "stream",
          "text": [
            "586.6348148148148\n"
          ],
          "name": "stdout"
        }
      ]
    },
    {
      "cell_type": "markdown",
      "metadata": {
        "id": "HSkaAPgkKqaS",
        "colab_type": "text"
      },
      "source": [
        "It is almost exactly the same as for the best reward of the epsilon-greedy algorithm, but the difference here is that we don't need to do hyperparameter tuning. Thompson sampling will almost always perform better than epsilon-greedy approach, when we don't have a luxury to try different values of $\\epsilon$"
      ]
    },
    {
      "cell_type": "markdown",
      "metadata": {
        "id": "eB_H3-lLLoRx",
        "colab_type": "text"
      },
      "source": [
        "## Further research\n",
        "\n",
        "**Contextual bandit** algorithm is when you also have an input vector X as an additional help inmaking the right selection. Many algorithms exist in training the model, starting from linear models and going all the way up to multilayer neural networks.[link text](https://)"
      ]
    }
  ]
}