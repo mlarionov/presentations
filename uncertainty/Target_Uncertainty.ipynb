{
 "cells": [
  {
   "cell_type": "markdown",
   "metadata": {},
   "source": [
    "# Uncertainty in machine learning predictions #\n",
    "\n",
    "There is inherent uncertainty in machine learning due to statistical nature of most of its algorithms. One of the sources of this uncertainty is incorrect labels either due to data mistakes or the cases when it is difficult to determine the correct label even to the human. For example, in the regression type of problem we can model our prediction as:\n",
    "\n",
    "$$y = f(x) + \\epsilon $$ \n",
    "\n",
    "Here $\\epsilon$ is the inherent uncertainty in the target. Assuming it follows Normal distribution, we can write the one case's contribution to the likelihood function as:\n",
    "\n",
    "$$ \n",
    "\\begin{equation}\n",
    "p(y|x, \\theta, \\sigma) \\propto e^{-\\frac{(y-\\theta x)^2}{2\\sigma^2}} \n",
    "\\end{equation}\n",
    "$$\n",
    "\n",
    "Here we assumed for simplicity linear regression\n",
    "\n",
    "The likelihood function is the product of such values, and the negative log of the likelihood function gives us the cost function:\n",
    "\n",
    "$$\n",
    "\\begin{equation}\n",
    "\\mathscr{L} = \\sum_i (y^{(i)} - \\theta x^{(i)})^2 \n",
    "\\end{equation}\n",
    "$$ \n",
    "\n",
    "\n",
    "Curiously enough, the uncertainty information has disappeared from the cost function. This is very common for the maximum posterior methods. To estimate degree of uncertainty using data we have to use more powerful methods, like [Bayesian Linear Regression](https://en.wikipedia.org/wiki/Bayesian_linear_regression).\n"
   ]
  },
  {
   "cell_type": "markdown",
   "metadata": {},
   "source": [
    "The assumption is that the uncertainty $\\sigma$ is the same for all cases. What if it is not? The person who labels the data set can indicate that he is not sure about a given example. For example, unusually low yield on a given bond given its rating, unusually high volume or something that makes the labeler suspect there is an error. For computer vision problems, it can be that someone is having hard time distinguishing 1 from 7 in a given mnist example.\n",
    "\n",
    "A very common approach is to drop these records. But what if we would like to use this information instead, just not trust it too much."
   ]
  },
  {
   "cell_type": "markdown",
   "metadata": {},
   "source": [
    "In case of linear regression model we can indicate increased uncertainty by increasing $\\sigma$. For convenience reason, we multiply the exponent in (1) by the precision $\\tau$:\n",
    "\n",
    "$$ p(y|x, \\theta, \\sigma) \\propto e^{-\\frac{(y-\\theta x)^2\\tau}{2\\sigma^2}} $$\n",
    "\n",
    "$\\tau$ of 1 indicate the regular level of trust, whereas the lower values of $\\tau$ will indicate increased uncertainty. To demonstrate this, let's plot both curves."
   ]
  },
  {
   "cell_type": "code",
   "execution_count": 16,
   "metadata": {},
   "outputs": [
    {
     "data": {
      "image/png": "[encoded data removed]",
      "text/plain": [
       "<matplotlib.figure.Figure at 0x1f78e9e0978>"
      ]
     },
     "metadata": {
      "needs_background": "light"
     },
     "output_type": "display_data"
    }
   ],
   "source": [
    "%matplotlib inline\n",
    "import numpy as np\n",
    "import matplotlib.pyplot as plt\n",
    "\n",
    "def linreg_likelihood(x, y, theta, sigma, tau):\n",
    "    return np.exp(-(y-theta*x)**2 * tau/2/sigma**2)/np.sqrt(2*np.pi*sigma**2/tau)\n",
    "\n",
    "fig, ax = plt.subplots(1, 1)\n",
    "y = np.linspace(1, 10, 100)\n",
    "ax.plot(y, linreg_likelihood(5,y,1,0.5,1), 'r-', lw=1, alpha=1, label='Reg. Uncertainty')\n",
    "ax.plot(y, linreg_likelihood(5,y,1,0.5,0.3), 'b-', lw=1, alpha=1, label='High Uncertainty')\n",
    "plt.legend();\n"
   ]
  },
  {
   "cell_type": "markdown",
   "metadata": {},
   "source": [
    "We see, that the example with a higher uncertainty results in a wider distribution, because we are not sure of the target value. If we feed this back to the cost function (2) we will have a corrected cost function:\n",
    "\n",
    "$$ \\mathscr{L} = \\sum_i {(y^{(i)} - \\theta x^{(i)})^2 \\tau^{(i)}} $$\n",
    "\n",
    "Here $\\tau^{(i)}$ is a relative precision of the i-th example. In reality, most of them will be 1, but the labeler can lower $\\tau^{(i)}$ for some of the  suspicious examples in the data set.\n",
    "\n",
    "Having the unusual loss function should not be a problem, because the frameworks, like TensorFlow, provide automatic computation of gradients."
   ]
  },
  {
   "cell_type": "markdown",
   "metadata": {},
   "source": [
    "## Uncertainty in binary classification ##\n",
    "For the binary classification problem we have to use [Bernoulli distribution](https://en.wikipedia.org/wiki/Bernoulli_distribution) instead of Normal distribution. \n",
    "\n",
    "$$ \n",
    "p(k ; \\rho) = \\rho^k (1-\\rho)^{1-k} \\tag{3}\n",
    "$$\n",
    "\n",
    "Where $\\rho$ is the parameter of the distribution and $k\\in{0,1}$\n",
    "\n",
    "Since there is only one parameter of the distribution, there is no way to change the variance without changing the mean. Also there is no obvious way to indicate the uncertainty by increasing variance.\n"
   ]
  },
  {
   "cell_type": "markdown",
   "metadata": {},
   "source": [
    "Instead we will derive the equation based on the Bayesian probability concepts. In our case k is the observed outcome, whereas the true target value t may be different from k. We can formalize it with another Bernoulli distribution:\n",
    "\n",
    "$$ p(k|t;a) = a^{\\delta_{kt}} (1-a)^{(1-\\delta_{kt})} \\tag{4}$$ \n",
    "\n",
    "Here $\\delta$ is the Kronecker symbol, and $a \\in [0.5,1]$ is the degree of uncertainty. If a=1 we are absolutely sure of the label. The case a=0.5 is also an extreme case, when we say we do not trust the label at all.\n",
    "\n",
    "Then the probability of the observed value given the $\\rho$ and a is:\n",
    "\n",
    "$$ p(k | \\rho, a) = \\sum_{t=0,1} {p(k|t;a) p(t|\\rho)} = \n",
    "\\sum_{t=0,1} {a^{\\delta_{kt}} (1-a)^{(1-\\delta_{kt})} \\rho^t (1-\\rho)^{(1-t)}}\n",
    "\\tag{5}\n",
    "$$\n",
    "\n",
    "Here we used Bayes rule and marginalize by the unknown true label value. "
   ]
  },
  {
   "cell_type": "markdown",
   "metadata": {},
   "source": [
    "After relatively simple computations we derive the modified Bernoulli distribution formula:\n",
    "\n",
    "$$ p(k | \\rho, a) = \\tilde{\\rho}^k (1-\\tilde{\\rho})^{1-k} \\tag{6} $$\n",
    "\n",
    "Where\n",
    "\n",
    "$$ \\tilde{\\rho} = a \\rho + (1 - a)(1 - \\rho) $$\n",
    "\n",
    "For example, in binary logistic regression problem you would replace $\\rho$ with a sigmoid function:\n",
    "\n",
    "$$ \\rho = \\frac{1}{1 + e^{-\\theta x}} $$\n",
    "\n",
    "and follow the regular procedure of the gradient descent methods. The cost function will be as follows:\n",
    "\n",
    "$$ \\mathscr{L} = \\sum_i { -k^{(i)} \\ln{\\tilde{\\rho}^{(i)}} - (1-k^{(i)}) \\ln{(1-\\tilde{\\rho}^{(i)})}}  \\tag{7} $$\n",
    "\n",
    "which is the usual cross-entropy, except $\\tilde{\\rho}$ is corrected based on uncertainty"
   ]
  },
  {
   "cell_type": "markdown",
   "metadata": {},
   "source": [
    "## Uncertainty in multiclass classification ##\n",
    "\n",
    "It is really easy to generalize binary classification to the multi-class classification case. Instead of Bernoulli distribution we have to use [Categorical distribution](https://en.wikipedia.org/wiki/Categorical_distribution)\n",
    "\n",
    "$$ p(k | \\rho) = \\prod_c {\\rho_c^{[k=c]}} $$\n",
    "\n",
    "In this case for every observation of the uncertain class we can define values $a_c$ which is the probability of the example to belong to class c, according to the labeler. Then the conditional probability $ p( k | t ) $ is $a_t$ if k = t and $(1 - a_t)$ otherwise. Marginalizing by t, we get the updated values $\\tilde{\\rho}$:\n",
    "\n",
    "$$ \\tilde{\\rho}_k = a_k \\rho_k + (1 - a_k) (1 - \\rho_k) \\tag{8}$$\n",
    "\n",
    "And $\\rho$ in this case should be modeled using softmax function instead of the logistic function.\n",
    "\n",
    "An example of this could be mnist data set, when for a given case the number looks like 1 or 7. In this case you set $a_1$ and $a_7$ to $\\frac{1}{2}$ and the rest of a to zero. Your cost function in this case will not penalize when either 1 or 7 is predicted, but will penalize when other digits are incorrectly predicted.\n"
   ]
  },
  {
   "cell_type": "markdown",
   "metadata": {},
   "source": [
    "## Conclusion ##\n",
    "\n",
    "This all means, that if you doubt some data, you don't have to drop them, but instead estimate the degree of uncertainty and include that in your algorithm. It is true, that you end up having a custom cost function, but that can be easily addressed by using frameworks like TensorFlow, that compute gradients automatically. \n",
    "\n",
    "You can also use this method to address outliers. We all know, that they can affect both regression and classification results rather significantly. Instead, you can assign them lower weight if you believe that there may be a data error."
   ]
  }
 ],
 "metadata": {
  "kernelspec": {
   "display_name": "Python 3",
   "language": "python",
   "name": "python3"
  },
  "language_info": {
   "codemirror_mode": {
    "name": "ipython",
    "version": 3
   },
   "file_extension": ".py",
   "mimetype": "text/x-python",
   "name": "python",
   "nbconvert_exporter": "python",
   "pygments_lexer": "ipython3",
   "version": "3.6.7"
  }
 },
 "nbformat": 4,
 "nbformat_minor": 2
}
